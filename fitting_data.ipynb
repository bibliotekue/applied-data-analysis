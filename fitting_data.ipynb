{
 "cells": [
  {
   "cell_type": "markdown",
   "id": "151f6fb1",
   "metadata": {},
   "source": [
    "# $\\color{black}{}$\n",
    "### 1. Fitting data\n",
    "---"
   ]
  },
  {
   "cell_type": "markdown",
   "id": "7eb62941",
   "metadata": {},
   "source": [
    "### Input data"
   ]
  },
  {
   "cell_type": "code",
   "execution_count": 4,
   "id": "41ddd6a3",
   "metadata": {},
   "outputs": [
    {
     "data": {
      "text/html": [
       "<div>\n",
       "<style scoped>\n",
       "    .dataframe tbody tr th:only-of-type {\n",
       "        vertical-align: middle;\n",
       "    }\n",
       "\n",
       "    .dataframe tbody tr th {\n",
       "        vertical-align: top;\n",
       "    }\n",
       "\n",
       "    .dataframe thead th {\n",
       "        text-align: right;\n",
       "    }\n",
       "</style>\n",
       "<table border=\"1\" class=\"dataframe\">\n",
       "  <thead>\n",
       "    <tr style=\"text-align: right;\">\n",
       "      <th></th>\n",
       "      <th>x</th>\n",
       "      <th>y</th>\n",
       "    </tr>\n",
       "  </thead>\n",
       "  <tbody>\n",
       "    <tr>\n",
       "      <th>0</th>\n",
       "      <td>3.745401</td>\n",
       "      <td>3.229269</td>\n",
       "    </tr>\n",
       "    <tr>\n",
       "      <th>1</th>\n",
       "      <td>9.507143</td>\n",
       "      <td>14.185654</td>\n",
       "    </tr>\n",
       "    <tr>\n",
       "      <th>2</th>\n",
       "      <td>7.319939</td>\n",
       "      <td>9.524231</td>\n",
       "    </tr>\n",
       "    <tr>\n",
       "      <th>3</th>\n",
       "      <td>5.986585</td>\n",
       "      <td>6.672066</td>\n",
       "    </tr>\n",
       "    <tr>\n",
       "      <th>4</th>\n",
       "      <td>1.560186</td>\n",
       "      <td>-3.358149</td>\n",
       "    </tr>\n",
       "  </tbody>\n",
       "</table>\n",
       "</div>"
      ],
      "text/plain": [
       "          x          y\n",
       "0  3.745401   3.229269\n",
       "1  9.507143  14.185654\n",
       "2  7.319939   9.524231\n",
       "3  5.986585   6.672066\n",
       "4  1.560186  -3.358149"
      ]
     },
     "execution_count": 4,
     "metadata": {},
     "output_type": "execute_result"
    }
   ],
   "source": [
    "import pandas as pd\n",
    "import seaborn as sns\n",
    "\n",
    "data = pd.read_csv('https://milliams.com/courses/applied_data_analysis/linear.csv')\n",
    "data.head()"
   ]
  },
  {
   "cell_type": "markdown",
   "id": "fe1b0e15",
   "metadata": {},
   "source": [
    "Let's check how many rows we have"
   ]
  },
  {
   "cell_type": "code",
   "execution_count": 2,
   "id": "62c4bd67",
   "metadata": {},
   "outputs": [
    {
     "data": {
      "text/plain": [
       "x    50\n",
       "y    50\n",
       "dtype: int64"
      ]
     },
     "execution_count": 2,
     "metadata": {},
     "output_type": "execute_result"
    }
   ],
   "source": [
    "data.count()"
   ]
  },
  {
   "cell_type": "markdown",
   "id": "22fbb180",
   "metadata": {},
   "source": [
    "We have 50 rows here. In the input data, each row is often called a sample (though sometimes also called an instance, example or observation). For example, it could be the information about a single person from a census or the measurements at a particular time from a weather station."
   ]
  },
  {
   "cell_type": "markdown",
   "id": "a994df6a",
   "metadata": {},
   "source": [
    "Let's have a look at what the data looks like when plotted"
   ]
  },
  {
   "cell_type": "code",
   "execution_count": 5,
   "id": "84bbfee9",
   "metadata": {},
   "outputs": [
    {
     "data": {
      "text/plain": [
       "<AxesSubplot:xlabel='x', ylabel='y'>"
      ]
     },
     "execution_count": 5,
     "metadata": {},
     "output_type": "execute_result"
    },
    {
     "data": {
      "image/png": "[encoded data removed]",
      "text/plain": [
       "<Figure size 432x288 with 1 Axes>"
      ]
     },
     "metadata": {
      "needs_background": "light"
     },
     "output_type": "display_data"
    }
   ],
   "source": [
    "sns.scatterplot(data=data, x=\"x\", y=\"y\")"
   ]
  },
  {
   "cell_type": "markdown",
   "id": "b6cc4427",
   "metadata": {},
   "source": [
    "We can clearly visually see here that there is a linear relationship between the x and y values but we need to be able to extract the exact parameters programmatically."
   ]
  },
  {
   "cell_type": "markdown",
   "id": "45941f0d",
   "metadata": {},
   "source": [
    "### Setting up our model"
   ]
  },
  {
   "cell_type": "markdown",
   "id": "145d8254",
   "metadata": {},
   "source": [
    "We import the model and create an instance of it. By default the LinearRegression model will fit the y-intercept, but since we don't want to make that assumption we explicitly pass fit_intercept=True. fit_intercept is an example of a hyperparameter, which are variables or options in a model which you set up-front rather than letting them be learned from the data."
   ]
  },
  {
   "cell_type": "code",
   "execution_count": 8,
   "id": "f91952ba",
   "metadata": {},
   "outputs": [],
   "source": [
    "from sklearn.linear_model import LinearRegression\n",
    "model = LinearRegression(fit_intercept=True)"
   ]
  },
  {
   "cell_type": "markdown",
   "id": "5ac9d042",
   "metadata": {},
   "source": [
    "### Fitting the data"
   ]
  },
  {
   "cell_type": "markdown",
   "id": "02138f2d",
   "metadata": {},
   "source": [
    "Once we have created our model, we can fit it to the data by calling the `fit()` method on it. This takes two arguments:\n",
    "\n",
    "1. The input data as a two-dimensional structure of the size ($N_{samples}$,$N_{features}$)\n",
    "\n",
    "2. The labels or targets of the data as a one-dimensional data structure of size ($N_{samples}$)\n"
   ]
  },
  {
   "cell_type": "markdown",
   "id": "6a18a673",
   "metadata": {},
   "source": [
    "If we just request `data[\"x\"]` then that will be a 1D array (actually a pandas `Series`) of shape (50) so we must request the data with `data[[\"x\"]]` (which returns it as a single-column, but still two-dimensional, `DataFrame`)."
   ]
  },
  {
   "cell_type": "markdown",
   "id": "14efd715",
   "metadata": {},
   "source": [
    "If you're using pandas to store your data (as we are) then just remember that the first argument should be a `DataFrame` and the second should be a `Series`."
   ]
  },
  {
   "cell_type": "code",
   "execution_count": 6,
   "id": "acf495b0",
   "metadata": {},
   "outputs": [],
   "source": [
    "X = data[['x']]\n",
    "y = data['y']"
   ]
  },
  {
   "cell_type": "code",
   "execution_count": 9,
   "id": "f0f2bea0",
   "metadata": {},
   "outputs": [
    {
     "data": {
      "text/plain": [
       "LinearRegression()"
      ]
     },
     "execution_count": 9,
     "metadata": {},
     "output_type": "execute_result"
    }
   ],
   "source": [
    "model.fit(X, y)"
   ]
  },
  {
   "cell_type": "markdown",
   "id": "f1d80ed4",
   "metadata": {},
   "source": [
    "### Making predictions using the model"
   ]
  },
  {
   "cell_type": "markdown",
   "id": "4395e3bd",
   "metadata": {},
   "source": [
    "We can use this to plot the fit over the original data to compare the result. By getting the predicted *__y__* values for the minimum and maximum x values, we can plot a straight line between them to visualise the model."
   ]
  },
  {
   "cell_type": "markdown",
   "id": "ae36a175",
   "metadata": {},
   "source": [
    "The `predict()` function takes an array of the same shape as the original input data (($N_{samples}$, $N_{features}$)) so we put our list of *__x__* values into a `DataFrame` before passing it to `predict()`."
   ]
  },
  {
   "cell_type": "markdown",
   "id": "f7bc8a1d",
   "metadata": {},
   "source": [
    "We then plot the original data in the same way as before and draw the prediction line in the same plot."
   ]
  },
  {
   "cell_type": "code",
   "execution_count": 10,
   "id": "a6ac5134",
   "metadata": {},
   "outputs": [],
   "source": [
    "x_fit = pd.DataFrame({'x': [0, 10]})\n",
    "y_pred = model.predict(x_fit)"
   ]
  },
  {
   "cell_type": "code",
   "execution_count": 19,
   "id": "7d38cac9",
   "metadata": {},
   "outputs": [
    {
     "data": {
      "text/plain": [
       "<Figure size 1440x1440 with 0 Axes>"
      ]
     },
     "metadata": {},
     "output_type": "display_data"
    },
    {
     "data": {
      "image/png": "[encoded data removed]",
      "text/plain": [
       "<Figure size 432x288 with 1 Axes>"
      ]
     },
     "metadata": {
      "needs_background": "light"
     },
     "output_type": "display_data"
    }
   ],
   "source": [
    "import matplotlib.pyplot as plt\n",
    "\n",
    "plt.figure(figsize=(20,20))\n",
    "\n",
    "fig, ax = plt.subplots()\n",
    "sns.scatterplot(data=data, x='x', y='y', ax=ax)\n",
    "ax.plot(x_fit['x'], y_pred, linestyle=':', color='red')\n",
    "plt.show()"
   ]
  },
  {
   "cell_type": "markdown",
   "id": "4a11417d",
   "metadata": {},
   "source": [
    "As well as plotting the line in a graph, we can also extract the calculated values of the gradient and y-intercept. The gradient is available as a list of values, `model.coef_`, one for each dimension or feature. The intercept is available as `model.intercept_`."
   ]
  },
  {
   "cell_type": "code",
   "execution_count": 14,
   "id": "8b373f4b",
   "metadata": {
    "scrolled": true
   },
   "outputs": [
    {
     "name": "stdout",
     "output_type": "stream",
     "text": [
      "Model gradient: 1.9776566003853107\n",
      "Model intercept: -4.903310725531115\n"
     ]
    }
   ],
   "source": [
    "print(f'Model gradient: {model.coef_[0]}')\n",
    "print(f'Model intercept: {model.intercept_}')"
   ]
  },
  {
   "cell_type": "markdown",
   "id": "66b3dc8b",
   "metadata": {},
   "source": [
    "The equation that we have extracted can therefore be represented as:\n",
    "                                __$y = 1.97x - 4.90$__"
   ]
  },
  {
   "cell_type": "markdown",
   "id": "5100e44b",
   "metadata": {},
   "source": [
    "The original data was produced (with random wobble applied) from a straight line with gradient __$2$__ and y-intercept of __$−5$__. Our model has managed to predict values very close to the original."
   ]
  }
 ],
 "metadata": {
  "kernelspec": {
   "display_name": "Python 3 (ipykernel)",
   "language": "python",
   "name": "python3"
  },
  "language_info": {
   "codemirror_mode": {
    "name": "ipython",
    "version": 3
   },
   "file_extension": ".py",
   "mimetype": "text/x-python",
   "name": "python",
   "nbconvert_exporter": "python",
   "pygments_lexer": "ipython3",
   "version": "3.9.7"
  }
 },
 "nbformat": 4,
 "nbformat_minor": 5
}
