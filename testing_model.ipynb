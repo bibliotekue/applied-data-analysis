{
 "cells": [
  {
   "cell_type": "markdown",
   "id": "7c3d452e",
   "metadata": {},
   "source": [
    "# $\\color{black}{}$\n",
    "### 2. Testing your model\n",
    "---"
   ]
  },
  {
   "cell_type": "code",
   "execution_count": 2,
   "id": "54a3e9d0",
   "metadata": {},
   "outputs": [],
   "source": [
    "import pandas as pd\n",
    "\n",
    "data = pd.read_csv(\"https://milliams.com/courses/applied_data_analysis/linear.csv\")\n",
    "\n",
    "X = data[[\"x\"]]\n",
    "y = data[\"y\"]"
   ]
  },
  {
   "cell_type": "markdown",
   "id": "7a33b562",
   "metadata": {},
   "source": [
    "Scikit-learn provides a built-in function, `train_test_split`, to split your data into a subset of data to fit with and a subset of data to test against."
   ]
  },
  {
   "cell_type": "code",
   "execution_count": 4,
   "id": "5ee3ca2f",
   "metadata": {},
   "outputs": [],
   "source": [
    "from sklearn.model_selection import train_test_split\n",
    "\n",
    "train_X, test_X, train_y, test_y = train_test_split(X, y, random_state=42)"
   ]
  },
  {
   "cell_type": "markdown",
   "id": "7a77e3e7",
   "metadata": {},
   "source": [
    "To see that `train` and `test` are taken from the same distribution let's plot them."
   ]
  },
  {
   "cell_type": "code",
   "execution_count": 5,
   "id": "008b82df",
   "metadata": {},
   "outputs": [
    {
     "data": {
      "image/png": "[encoded data removed]",
      "text/plain": [
       "<Figure size 432x288 with 1 Axes>"
      ]
     },
     "metadata": {
      "needs_background": "light"
     },
     "output_type": "display_data"
    },
    {
     "data": {
      "text/plain": [
       "<Figure size 1440x1440 with 0 Axes>"
      ]
     },
     "metadata": {},
     "output_type": "display_data"
    }
   ],
   "source": [
    "import matplotlib.pyplot as plt\n",
    "\n",
    "fig, ax = plt.subplots()\n",
    "\n",
    "plt.figure(figsize=(20,20))\n",
    "\n",
    "ax.scatter(train_X, train_y, color=\"red\", marker=\"o\", label=\"train\")\n",
    "ax.scatter(test_X, test_y, color=\"blue\", marker=\"x\", label=\"test\")\n",
    "ax.legend()\n",
    "plt.show()"
   ]
  },
  {
   "cell_type": "markdown",
   "id": "5e586ea2",
   "metadata": {},
   "source": [
    "Now that we have `train` and `test` we should only ever pass `train` to the `fit` function\n"
   ]
  },
  {
   "cell_type": "code",
   "execution_count": 7,
   "id": "4b7281a3",
   "metadata": {},
   "outputs": [
    {
     "data": {
      "text/plain": [
       "LinearRegression()"
      ]
     },
     "execution_count": 7,
     "metadata": {},
     "output_type": "execute_result"
    }
   ],
   "source": [
    "from sklearn.linear_model import LinearRegression\n",
    "\n",
    "model = LinearRegression(fit_intercept=True)\n",
    "model.fit(train_X, train_y)"
   ]
  },
  {
   "cell_type": "markdown",
   "id": "ea028e1a",
   "metadata": {},
   "source": [
    "To find out how good the fit was, we can call the `score` method on the model. It is important here that we pass in our *test* data set as we expect that to provide an independent validation of the model."
   ]
  },
  {
   "cell_type": "code",
   "execution_count": 8,
   "id": "9f9dbf9a",
   "metadata": {},
   "outputs": [
    {
     "data": {
      "text/plain": [
       "0.9676069631786152"
      ]
     },
     "execution_count": 8,
     "metadata": {},
     "output_type": "execute_result"
    }
   ],
   "source": [
    "model.score(test_X, test_y)"
   ]
  },
  {
   "cell_type": "markdown",
   "id": "69a1e930",
   "metadata": {},
   "source": [
    "A score of __1.0__ is a perfect match and anything less than that is less-well performing. A score of __0.97__ suggests we have a very good model."
   ]
  },
  {
   "cell_type": "markdown",
   "id": "f19f0989",
   "metadata": {},
   "source": [
    "### $\\color{black}{Exercise}$"
   ]
  },
  {
   "cell_type": "code",
   "execution_count": 29,
   "id": "97e01492",
   "metadata": {},
   "outputs": [],
   "source": [
    "# load\n",
    "from sklearn.datasets import load_diabetes\n",
    "\n",
    "X, y = load_diabetes(as_frame=True, return_X_y=True)"
   ]
  },
  {
   "cell_type": "code",
   "execution_count": 34,
   "id": "c3313d92",
   "metadata": {},
   "outputs": [],
   "source": [
    "# split\n",
    "train_X, test_X, train_y, test_y = train_test_split(X, y, random_state=42)"
   ]
  },
  {
   "cell_type": "code",
   "execution_count": 35,
   "id": "feb54413",
   "metadata": {},
   "outputs": [
    {
     "data": {
      "text/plain": [
       "<matplotlib.legend.Legend at 0x7f9f17f9f7f0>"
      ]
     },
     "execution_count": 35,
     "metadata": {},
     "output_type": "execute_result"
    },
    {
     "data": {
      "image/png": "[encoded data removed]",
      "text/plain": [
       "<Figure size 432x288 with 1 Axes>"
      ]
     },
     "metadata": {
      "needs_background": "light"
     },
     "output_type": "display_data"
    }
   ],
   "source": [
    "# plot\n",
    "fig, ax = plt.subplots()\n",
    "\n",
    "ax.scatter(train_X['bmi'], train_y, color='red', marker='o', label='train')\n",
    "ax.scatter(test_X['bmi'], test_y, color='blue', marker='x', label='test')\n",
    "ax.legend()"
   ]
  },
  {
   "cell_type": "code",
   "execution_count": 36,
   "id": "706e7ad7",
   "metadata": {},
   "outputs": [
    {
     "data": {
      "text/plain": [
       "LinearRegression()"
      ]
     },
     "execution_count": 36,
     "metadata": {},
     "output_type": "execute_result"
    }
   ],
   "source": [
    "# fit\n",
    "model.fit(train_X[['bmi']], train_y)"
   ]
  },
  {
   "cell_type": "code",
   "execution_count": 37,
   "id": "9840436c",
   "metadata": {},
   "outputs": [
    {
     "data": {
      "text/plain": [
       "0.3172099449537781"
      ]
     },
     "execution_count": 37,
     "metadata": {},
     "output_type": "execute_result"
    }
   ],
   "source": [
    "# score\n",
    "model.score(test_X[['bmi']], test_y)"
   ]
  },
  {
   "cell_type": "code",
   "execution_count": 38,
   "id": "6e2dfc96",
   "metadata": {},
   "outputs": [],
   "source": [
    "# regression plot\n",
    "x_fit = pd.DataFrame({'bmi': [X['bmi'].min(), X['bmi'].max()]})\n",
    "y_pred = model.predict(x_fit)"
   ]
  },
  {
   "cell_type": "code",
   "execution_count": 39,
   "id": "939dbffc",
   "metadata": {},
   "outputs": [
    {
     "data": {
      "image/png": "[encoded data removed]",
      "text/plain": [
       "<Figure size 432x288 with 1 Axes>"
      ]
     },
     "metadata": {
      "needs_background": "light"
     },
     "output_type": "display_data"
    }
   ],
   "source": [
    "fig, ax = plt.subplots()\n",
    "\n",
    "ax.scatter(X['bmi'], y)\n",
    "ax.plot(x_fit['bmi'], y_pred, linestyle=':', color='red')\n",
    "plt.show()"
   ]
  },
  {
   "cell_type": "code",
   "execution_count": null,
   "id": "7dfe28c2",
   "metadata": {},
   "outputs": [],
   "source": []
  }
 ],
 "metadata": {
  "kernelspec": {
   "display_name": "Python 3 (ipykernel)",
   "language": "python",
   "name": "python3"
  },
  "language_info": {
   "codemirror_mode": {
    "name": "ipython",
    "version": 3
   },
   "file_extension": ".py",
   "mimetype": "text/x-python",
   "name": "python",
   "nbconvert_exporter": "python",
   "pygments_lexer": "ipython3",
   "version": "3.9.7"
  }
 },
 "nbformat": 4,
 "nbformat_minor": 5
}
